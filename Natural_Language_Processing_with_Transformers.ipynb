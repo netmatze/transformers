{
 "cells": [
  {
   "cell_type": "markdown",
   "id": "635ee7c6-3fc5-4094-9488-81d9036f1f41",
   "metadata": {},
   "source": [
    "## Natural Language Processing with Transformers (book)\n",
    "\n",
    "### https://www.oreilly.com/library/view/natural-language-processing/9781098136789/"
   ]
  },
  {
   "cell_type": "code",
   "execution_count": null,
   "id": "72e281f5-adba-4fe7-938f-06e3effaabc5",
   "metadata": {},
   "outputs": [],
   "source": []
  }
 ],
 "metadata": {
  "kernelspec": {
   "display_name": "Python 3 (ipykernel)",
   "language": "python",
   "name": "python3"
  },
  "language_info": {
   "codemirror_mode": {
    "name": "ipython",
    "version": 3
   },
   "file_extension": ".py",
   "mimetype": "text/x-python",
   "name": "python",
   "nbconvert_exporter": "python",
   "pygments_lexer": "ipython3",
   "version": "3.11.9"
  }
 },
 "nbformat": 4,
 "nbformat_minor": 5
}
